{
 "cells": [
  {
   "cell_type": "code",
   "execution_count": null,
   "metadata": {},
   "outputs": [],
   "source": [
    "Pkg.add(\"PkgDev\")"
   ]
  },
  {
   "cell_type": "code",
   "execution_count": 1,
   "metadata": {},
   "outputs": [],
   "source": [
    "using Colors #for displaying rules\n",
    "using Images #for displaying rules\n",
    "using IterTools #for product() function (Iterate over all combinations in the Cartesian product of the inputs)\n",
    "using FileIO #for saiving files, if need be"
   ]
  },
  {
   "cell_type": "code",
   "execution_count": null,
   "metadata": {},
   "outputs": [],
   "source": [
    "using PkgDev"
   ]
  },
  {
   "cell_type": "code",
   "execution_count": 2,
   "metadata": {},
   "outputs": [
    {
     "data": {
      "text/plain": [
       "rule_view (generic function with 1 method)"
      ]
     },
     "execution_count": 2,
     "metadata": {},
     "output_type": "execute_result"
    }
   ],
   "source": [
    "#initialize array that will contain 8 possible 3-element binary neighborhoods \n",
    "rule_array = Array[]\n",
    "rule_array1 = Array[] #for making a deepcopy later, back to rule_array\n",
    "for p in product([0 0.9],[0 0.9],[0 0.9])\n",
    "    push!(rule_array1, collect(Float64,p))\n",
    "end\n",
    "\n",
    "\n",
    "# create an array of arrays to which will be iteratively appended the values from set_array to create an array of all possible rulesets\n",
    "for i in 1:256\n",
    "    push!(rule_array, deepcopy(rule_array1)) #deepcopy() creates an independent object\n",
    "end\n",
    "\n",
    "\n",
    "# create array of arrays of all possible 8-element binary combinations\n",
    "set_array = Array[]\n",
    "for p in product([0 0.9],[0 0.9],[0 0.9],[0 0.9],[0 0.9],[0 0.9],[0 0.9],[0 0.9])\n",
    "    push!(set_array, collect(Float64,p))\n",
    "end\n",
    "\n",
    "\n",
    "# combine set_array with rule_array\n",
    "for i in 1:256\n",
    "    for j in 1:8\n",
    "        push!(rule_array[i][j],1.0) # padding\n",
    "        push!(rule_array[i][j], set_array[i][j])\n",
    "        push!(rule_array[i][j],1.0) # padding\n",
    "    end\n",
    "end\n",
    "\n",
    "function rule_view(x)\n",
    "    array = ones(2,31)\n",
    "    for i in 1:8\n",
    "        array[1,(3i+(i-3)):(3i+(i-1))]  = rule_array[x][i][1:3]\n",
    "        array[2,(3i+(i-3)):(3i+(i-1))] = rule_array[x][i][4:6]\n",
    "    end\n",
    "    display(Gray.(array))\n",
    "end"
   ]
  },
  {
   "cell_type": "code",
   "execution_count": 3,
   "metadata": {},
   "outputs": [
    {
     "data": {
      "text/plain": [
       "ca_maker (generic function with 1 method)"
      ]
     },
     "execution_count": 3,
     "metadata": {},
     "output_type": "execute_result"
    }
   ],
   "source": [
    "#function for converting seed value to binary array, and then inserting these values as top center seed\n",
    "function seeder(seed, W)\n",
    "    global bin_array = Float64[] #initialize array to push binary values to, setting scope as global\n",
    "    for char in bin(seed)\n",
    "        char = convert(Float64, char) - 48 #for ASIIC values\n",
    "        if char == 1.0\n",
    "            char = 0.9\n",
    "        end\n",
    "        push!(bin_array, char)\n",
    "    end \n",
    "    \n",
    "    if length(bin_array)%2 == 1 #if it is odd \n",
    "        push!(bin_array, 0.9) #add a dead cell to the end of array\n",
    "    end\n",
    "    \n",
    "    if W%2 == 0 #if width of ca_array is even (i.e. no exact middle cell, rather two middle cells)\n",
    "        for i in 1:(length(bin_array)-1)\n",
    "            global ca_array[1, convert(Int8, W/2 - (length(bin_array)/2-1) + i)] = bin_array[i+1] #globalize changes to ca_array \n",
    "        end\n",
    "        \n",
    "    else #if width is odd number (i.e. there is an exact middle cell)\n",
    "        for i in 1:(length(bin_array)-1)\n",
    "            global ca_array[1, convert(Int8, (W-1)/2 - (length(bin_array)/2-1) + i)] = bin_array[i+1]\n",
    "        end\n",
    "    end\n",
    "end\n",
    "\n",
    "\n",
    "function ca_wrap(rule)\n",
    "\n",
    "    for i in 2:length(ca_array[:,1]) \n",
    "        for j in 1:length(ca_array[1,:]) #at left edge\n",
    "            if j == 1 #for iterating at edges\n",
    "                edge_array = [ca_array[i-1,length(ca_array[1,:])]] #add the edge cell from end of row (right edge)\n",
    "\n",
    "                append!(edge_array, ca_array[i-1,j:j+1]) #add two neighbor cells\n",
    "\n",
    "                for k in 1:8\n",
    "                    if edge_array[1:3] == rule_array[rule][k][1:3] #see which neighborhood matches\n",
    "                        global ca_array[i,j] = rule_array[rule][k][5]\n",
    "                    end\n",
    "                end\n",
    "                \n",
    "            elseif j == length(ca_array[1,:]) #at right edge\n",
    "\n",
    "                edge_array = ca_array[i-1,j-1:j] #add two neighbor cells\n",
    "                \n",
    "                push!(edge_array, ca_array[i-1,1]) #add edge cell from beginning of row (left edge)\n",
    "\n",
    "                for k in 1:8\n",
    "                    if edge_array[1:3] == rule_array[rule][k][1:3] #see which neighborhood matches\n",
    "                        global ca_array[i,j] = rule_array[rule][k][5]\n",
    "                    end\n",
    "                end\n",
    "          \n",
    "            else\n",
    "                for k in 1:8\n",
    "                    if ca_array[i-1,j-1:j+1] == rule_array[rule][k][1:3] #see which neighborhood matches\n",
    "                        global ca_array[i,j] = rule_array[rule][k][5]\n",
    "                    end\n",
    "                end\n",
    "            end\n",
    "        end\n",
    "    end\n",
    "end\n",
    "\n",
    "\n",
    "###########\n",
    "###########\n",
    "\n",
    "\n",
    "function ca_no_wrap(rule)\n",
    "    for i in 2:length(ca_array[:,1]) \n",
    "        for j in 2:length(ca_array[1,:])-1\n",
    "            for k in 1:8\n",
    "                if ca_array[i-1,j-1:j+1] == rule_array[rule][k][1:3] #see which neighborhood matches\n",
    "                    global ca_array[i,j] = rule_array[rule][k][5]\n",
    "                end\n",
    "            end\n",
    "        end\n",
    "    end\n",
    "end\n",
    "\n",
    "\n",
    "###########\n",
    "###########\n",
    "\n",
    "\n",
    "#master function\n",
    "function ca_maker(L, W, rule, seed; wrap = \"True\") #default values\n",
    "    #make sure binary of seed is not wider than dimension of array\n",
    "    if length(bin(seed)) > W \n",
    "        println(\"Error: The binary value of your chosen seed is wider than the array(W). Please adjust seed and/or W.\")\n",
    "        return\n",
    "    end\n",
    "    if W > 242\n",
    "        println(\"Error: The maximum width(W) is 242.\")\n",
    "        return\n",
    "    end\n",
    "    \n",
    "    global ca_array = fill(0.9, L, W) #fill array with dead cells (0.9 = light grey = dead)\n",
    "    \n",
    "    #bin(seed) <= (width - 2), otherwise should return error w/ explanation (e.g. using print() and then break())\n",
    "    seeder(seed, W)\n",
    "\n",
    "    if wrap == \"True\"\n",
    "        ca_wrap(rule)\n",
    "    \n",
    "    elseif wrap == \"False\"\n",
    "        ca_no_wrap(rule)\n",
    "             \n",
    "    else\n",
    "        println(\"provide boolean value for wrap\")\n",
    "    end\n",
    "    display(Gray.(ca_array))\n",
    "end"
   ]
  },
  {
   "cell_type": "code",
   "execution_count": 4,
   "metadata": {},
   "outputs": [
    {
     "data": {
      "image/png": "[encoded data removed]",
      "text/plain": [
       "100×48 Array{Gray{Float64},2}:\n",
       " Gray{Float64}(0.9)  Gray{Float64}(0.9)  …  Gray{Float64}(0.9)\n",
       " Gray{Float64}(0.9)  Gray{Float64}(0.0)     Gray{Float64}(0.9)\n",
       " Gray{Float64}(0.9)  Gray{Float64}(0.9)     Gray{Float64}(0.9)\n",
       " Gray{Float64}(0.9)  Gray{Float64}(0.9)     Gray{Float64}(0.9)\n",
       " Gray{Float64}(0.9)  Gray{Float64}(0.0)     Gray{Float64}(0.9)\n",
       " Gray{Float64}(0.9)  Gray{Float64}(0.9)  …  Gray{Float64}(0.9)\n",
       " Gray{Float64}(0.9)  Gray{Float64}(0.0)     Gray{Float64}(0.9)\n",
       " Gray{Float64}(0.9)  Gray{Float64}(0.9)     Gray{Float64}(0.9)\n",
       " Gray{Float64}(0.9)  Gray{Float64}(0.9)     Gray{Float64}(0.9)\n",
       " Gray{Float64}(0.9)  Gray{Float64}(0.0)     Gray{Float64}(0.9)\n",
       " Gray{Float64}(0.9)  Gray{Float64}(0.9)  …  Gray{Float64}(0.9)\n",
       " Gray{Float64}(0.9)  Gray{Float64}(0.9)     Gray{Float64}(0.9)\n",
       " Gray{Float64}(0.9)  Gray{Float64}(0.0)     Gray{Float64}(0.9)\n",
       " ⋮                                       ⋱                    \n",
       " Gray{Float64}(0.9)  Gray{Float64}(0.9)     Gray{Float64}(0.9)\n",
       " Gray{Float64}(0.9)  Gray{Float64}(0.9)     Gray{Float64}(0.9)\n",
       " Gray{Float64}(0.9)  Gray{Float64}(0.0)  …  Gray{Float64}(0.9)\n",
       " Gray{Float64}(0.9)  Gray{Float64}(0.9)     Gray{Float64}(0.9)\n",
       " Gray{Float64}(0.9)  Gray{Float64}(0.0)     Gray{Float64}(0.9)\n",
       " Gray{Float64}(0.9)  Gray{Float64}(0.9)     Gray{Float64}(0.9)\n",
       " Gray{Float64}(0.9)  Gray{Float64}(0.9)     Gray{Float64}(0.9)\n",
       " Gray{Float64}(0.9)  Gray{Float64}(0.0)  …  Gray{Float64}(0.9)\n",
       " Gray{Float64}(0.9)  Gray{Float64}(0.9)     Gray{Float64}(0.9)\n",
       " Gray{Float64}(0.9)  Gray{Float64}(0.9)     Gray{Float64}(0.9)\n",
       " Gray{Float64}(0.9)  Gray{Float64}(0.0)     Gray{Float64}(0.9)\n",
       " Gray{Float64}(0.9)  Gray{Float64}(0.9)     Gray{Float64}(0.9)"
      ]
     },
     "metadata": {},
     "output_type": "display_data"
    }
   ],
   "source": [
    "ca_maker(100,48,123,2244331455, wrap = \"False\")"
   ]
  },
  {
   "cell_type": "code",
   "execution_count": 5,
   "metadata": {},
   "outputs": [
    {
     "ename": "LoadError",
     "evalue": "\u001b[91mArgumentError: Module PkgDev not found in current path.\nRun `Pkg.add(\"PkgDev\")` to install the PkgDev package.\u001b[39m",
     "output_type": "error",
     "traceback": [
      "\u001b[91mArgumentError: Module PkgDev not found in current path.\nRun `Pkg.add(\"PkgDev\")` to install the PkgDev package.\u001b[39m",
      "",
      "Stacktrace:",
      " [1] \u001b[1m_require\u001b[22m\u001b[22m\u001b[1m(\u001b[22m\u001b[22m::Symbol\u001b[1m)\u001b[22m\u001b[22m at \u001b[1m./loading.jl:435\u001b[22m\u001b[22m",
      " [2] \u001b[1mrequire\u001b[22m\u001b[22m\u001b[1m(\u001b[22m\u001b[22m::Symbol\u001b[1m)\u001b[22m\u001b[22m at \u001b[1m./loading.jl:405\u001b[22m\u001b[22m"
     ]
    }
   ],
   "source": [
    "using PkgDev\n",
    "PkgDev.generate(\"CellularAutomata\",\"MIT\")"
   ]
  },
  {
   "cell_type": "code",
   "execution_count": null,
   "metadata": {},
   "outputs": [],
   "source": []
  }
 ],
 "metadata": {
  "kernelspec": {
   "display_name": "Julia 0.6.2",
   "language": "julia",
   "name": "julia-0.6"
  },
  "language_info": {
   "file_extension": ".jl",
   "mimetype": "application/julia",
   "name": "julia",
   "version": "0.6.2"
  }
 },
 "nbformat": 4,
 "nbformat_minor": 2
}
